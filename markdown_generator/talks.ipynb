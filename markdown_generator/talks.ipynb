{
 "cells": [
  {
   "cell_type": "markdown",
   "metadata": {
    "deletable": true,
    "editable": true
   },
   "source": [
    "# Talks markdown generator for academicpages\n",
    "\n",
    "Takes a TSV of talks with metadata and converts them for use with [academicpages.github.io](academicpages.github.io). This is an interactive Jupyter notebook ([see more info here](http://jupyter-notebook-beginner-guide.readthedocs.io/en/latest/what_is_jupyter.html)). The core python code is also in `talks.py`. Run either from the `markdown_generator` folder after replacing `talks.tsv` with one containing your data.\n",
    "\n",
    "TODO: Make this work with BibTex and other databases, rather than Stuart's non-standard TSV format and citation style."
   ]
  },
  {
   "cell_type": "code",
   "execution_count": 2,
   "metadata": {
    "collapsed": false,
    "deletable": true,
    "editable": true
   },
   "outputs": [],
   "source": [
    "import pandas as pd\n",
    "import os\n"
   ]
  },
  {
   "cell_type": "markdown",
   "metadata": {},
   "source": [
    "## Data format\n",
    "\n",
    "The TSV needs to have the following columns: title, type, url_slug, venue, date, location, talk_url, description, with a header at the top. Many of these fields can be blank, but the columns must be in the TSV.\n",
    "\n",
    "- Fields that cannot be blank: `title`, `url_slug`, `date`. All else can be blank. `type` defaults to \"Talk\" \n",
    "- `date` must be formatted as YYYY-MM-DD.\n",
    "- `url_slug` will be the descriptive part of the .md file and the permalink URL for the page about the paper. \n",
    "    - The .md file will be `YYYY-MM-DD-[url_slug].md` and the permalink will be `https://[yourdomain]/talks/YYYY-MM-DD-[url_slug]`\n",
    "    - The combination of `url_slug` and `date` must be unique, as it will be the basis for your filenames\n",
    "\n",
    "This is how the raw file looks (it doesn't look pretty, use a spreadsheet or other program to edit and create)."
   ]
  },
  {
   "cell_type": "code",
   "execution_count": 3,
   "metadata": {
    "collapsed": false
   },
   "outputs": [
    {
     "name": "stdout",
     "output_type": "stream",
     "text": [
      "title\ttype\turl_slug\tvenue\tdate\tlocation\ttalk_url\tdescription\n",
      "Transfer learning on staphylococcal transcriptomics:GLEAning uncharacterized genes\tTalk\ttalk-5\tNortheast and CT Valley ASM\t4/25/25\t\"Worcester, MA\"\t\tTalk at Northeast and Connecticut Valley Joint Branch ASM Meeting\n",
      "Transfer learning on staphylococcal transcriptomics: exploring uncharacterized genes\tTalk\ttalk-1\tDuke Microbiome Center\t1/17/25\t\"Durham, NC\"\t\tResearch in Progress Seminar (virtual)\n",
      "Staphylococcal CRISPRi library for gene essentiality testing\tTalk\ttalk-2\tYale University\t11/15/25\t\"New Haven, CT\"\t\tGuest Seminar for the Yale Phage Center\n",
      "\"GLEAn: Graphs Learned from Expression for Annotation, a proof-of -oncept study in staphylococci\"\tTalk\ttalk-3\t\"Ipswitch, MA\"\t12/13/24\t\"London, UK\"\t\tInvited Seminar at New England Biolabs\n",
      "Wrangling genomic and transcriptomic diversity of skin staphylococci\tTalk\ttalk-4\tLake Arrowhead Microbial Genomics\t9/17/24\t\"Lake Arrowhead, CA\"\t\tTalk at LAMG Meeting"
     ]
    }
   ],
   "source": [
    "!cat talks.tsv"
   ]
  },
  {
   "cell_type": "markdown",
   "metadata": {},
   "source": [
    "## Import TSV\n",
    "\n",
    "Pandas makes this easy with the read_csv function. We are using a TSV, so we specify the separator as a tab, or `\\t`.\n",
    "\n",
    "I found it important to put this data in a tab-separated values format, because there are a lot of commas in this kind of data and comma-separated values can get messed up. However, you can modify the import statement, as pandas also has read_excel(), read_json(), and others."
   ]
  },
  {
   "cell_type": "code",
   "execution_count": 4,
   "metadata": {
    "collapsed": false,
    "deletable": true,
    "editable": true
   },
   "outputs": [
    {
     "data": {
      "text/html": [
       "<div>\n",
       "<style scoped>\n",
       "    .dataframe tbody tr th:only-of-type {\n",
       "        vertical-align: middle;\n",
       "    }\n",
       "\n",
       "    .dataframe tbody tr th {\n",
       "        vertical-align: top;\n",
       "    }\n",
       "\n",
       "    .dataframe thead th {\n",
       "        text-align: right;\n",
       "    }\n",
       "</style>\n",
       "<table border=\"1\" class=\"dataframe\">\n",
       "  <thead>\n",
       "    <tr style=\"text-align: right;\">\n",
       "      <th></th>\n",
       "      <th>title</th>\n",
       "      <th>type</th>\n",
       "      <th>url_slug</th>\n",
       "      <th>venue</th>\n",
       "      <th>date</th>\n",
       "      <th>location</th>\n",
       "      <th>talk_url</th>\n",
       "      <th>description</th>\n",
       "    </tr>\n",
       "  </thead>\n",
       "  <tbody>\n",
       "    <tr>\n",
       "      <th>0</th>\n",
       "      <td>Transfer learning on staphylococcal transcript...</td>\n",
       "      <td>Talk</td>\n",
       "      <td>talk-5</td>\n",
       "      <td>Northeast and CT Valley ASM</td>\n",
       "      <td>4/25/25</td>\n",
       "      <td>Worcester, MA</td>\n",
       "      <td>NaN</td>\n",
       "      <td>Talk at Northeast and Connecticut Valley Joint...</td>\n",
       "    </tr>\n",
       "    <tr>\n",
       "      <th>1</th>\n",
       "      <td>Transfer learning on staphylococcal transcript...</td>\n",
       "      <td>Talk</td>\n",
       "      <td>talk-1</td>\n",
       "      <td>Duke Microbiome Center</td>\n",
       "      <td>1/17/25</td>\n",
       "      <td>Durham, NC</td>\n",
       "      <td>NaN</td>\n",
       "      <td>Research in Progress Seminar (virtual)</td>\n",
       "    </tr>\n",
       "    <tr>\n",
       "      <th>2</th>\n",
       "      <td>Staphylococcal CRISPRi library for gene essent...</td>\n",
       "      <td>Talk</td>\n",
       "      <td>talk-2</td>\n",
       "      <td>Yale University</td>\n",
       "      <td>11/15/25</td>\n",
       "      <td>New Haven, CT</td>\n",
       "      <td>NaN</td>\n",
       "      <td>Guest Seminar for the Yale Phage Center</td>\n",
       "    </tr>\n",
       "    <tr>\n",
       "      <th>3</th>\n",
       "      <td>GLEAn: Graphs Learned from Expression for Anno...</td>\n",
       "      <td>Talk</td>\n",
       "      <td>talk-3</td>\n",
       "      <td>Ipswitch, MA</td>\n",
       "      <td>12/13/24</td>\n",
       "      <td>London, UK</td>\n",
       "      <td>NaN</td>\n",
       "      <td>Invited Seminar at New England Biolabs</td>\n",
       "    </tr>\n",
       "    <tr>\n",
       "      <th>4</th>\n",
       "      <td>Wrangling genomic and transcriptomic diversity...</td>\n",
       "      <td>Talk</td>\n",
       "      <td>talk-4</td>\n",
       "      <td>Lake Arrowhead Microbial Genomics</td>\n",
       "      <td>9/17/24</td>\n",
       "      <td>Lake Arrowhead, CA</td>\n",
       "      <td>NaN</td>\n",
       "      <td>Talk at LAMG Meeting</td>\n",
       "    </tr>\n",
       "  </tbody>\n",
       "</table>\n",
       "</div>"
      ],
      "text/plain": [
       "                                               title  type url_slug  \\\n",
       "0  Transfer learning on staphylococcal transcript...  Talk   talk-5   \n",
       "1  Transfer learning on staphylococcal transcript...  Talk   talk-1   \n",
       "2  Staphylococcal CRISPRi library for gene essent...  Talk   talk-2   \n",
       "3  GLEAn: Graphs Learned from Expression for Anno...  Talk   talk-3   \n",
       "4  Wrangling genomic and transcriptomic diversity...  Talk   talk-4   \n",
       "\n",
       "                               venue      date            location  talk_url  \\\n",
       "0        Northeast and CT Valley ASM   4/25/25       Worcester, MA       NaN   \n",
       "1             Duke Microbiome Center   1/17/25          Durham, NC       NaN   \n",
       "2                    Yale University  11/15/25       New Haven, CT       NaN   \n",
       "3                       Ipswitch, MA  12/13/24          London, UK       NaN   \n",
       "4  Lake Arrowhead Microbial Genomics   9/17/24  Lake Arrowhead, CA       NaN   \n",
       "\n",
       "                                         description  \n",
       "0  Talk at Northeast and Connecticut Valley Joint...  \n",
       "1             Research in Progress Seminar (virtual)  \n",
       "2            Guest Seminar for the Yale Phage Center  \n",
       "3             Invited Seminar at New England Biolabs  \n",
       "4                               Talk at LAMG Meeting  "
      ]
     },
     "execution_count": 4,
     "metadata": {},
     "output_type": "execute_result"
    }
   ],
   "source": [
    "talks = pd.read_csv(\"talks.tsv\", sep=\"\\t\", header=0)\n",
    "talks"
   ]
  },
  {
   "cell_type": "markdown",
   "metadata": {},
   "source": [
    "## Escape special characters\n",
    "\n",
    "YAML is very picky about how it takes a valid string, so we are replacing single and double quotes (and ampersands) with their HTML encoded equivilents. This makes them look not so readable in raw format, but they are parsed and rendered nicely."
   ]
  },
  {
   "cell_type": "code",
   "execution_count": 5,
   "metadata": {
    "collapsed": false,
    "deletable": true,
    "editable": true
   },
   "outputs": [],
   "source": [
    "html_escape_table = {\n",
    "    \"&\": \"&amp;\",\n",
    "    '\"': \"&quot;\",\n",
    "    \"'\": \"&apos;\"\n",
    "    }\n",
    "\n",
    "def html_escape(text):\n",
    "    if type(text) is str:\n",
    "        return \"\".join(html_escape_table.get(c,c) for c in text)\n",
    "    else:\n",
    "        return \"False\""
   ]
  },
  {
   "cell_type": "markdown",
   "metadata": {},
   "source": [
    "## Creating the markdown files\n",
    "\n",
    "This is where the heavy lifting is done. This loops through all the rows in the TSV dataframe, then starts to concatentate a big string (```md```) that contains the markdown for each type. It does the YAML metadata first, then does the description for the individual page."
   ]
  },
  {
   "cell_type": "code",
   "execution_count": 8,
   "metadata": {
    "collapsed": false,
    "deletable": true,
    "editable": true
   },
   "outputs": [],
   "source": [
    "loc_dict = {}\n",
    "\n",
    "for row, item in talks.iterrows():\n",
    "    \n",
    "    md_filename = str(item.date) + \"-\" + item.url_slug + \".md\"\n",
    "    html_filename = str(item.date) + \"-\" + item.url_slug \n",
    "    year = item.date[:4]\n",
    "    \n",
    "    md = \"---\\ntitle: \\\"\"   + item.title + '\"\\n'\n",
    "    md += \"collection: talks\" + \"\\n\"\n",
    "    \n",
    "    if len(str(item.type)) > 3:\n",
    "        md += 'type: \"' + item.type + '\"\\n'\n",
    "    else:\n",
    "        md += 'type: \"Talk\"\\n'\n",
    "    \n",
    "    md += \"permalink: /talks/\" + html_filename + \"\\n\"\n",
    "    \n",
    "    if len(str(item.venue)) > 3:\n",
    "        md += 'venue: \"' + item.venue + '\"\\n'\n",
    "        \n",
    "    if len(str(item.location)) > 3:\n",
    "        md += \"date: \" + str(item.date) + \"\\n\"\n",
    "    \n",
    "    if len(str(item.location)) > 3:\n",
    "        md += 'location: \"' + str(item.location) + '\"\\n'\n",
    "           \n",
    "    md += \"---\\n\"\n",
    "    \n",
    "    \n",
    "    if len(str(item.talk_url)) > 3:\n",
    "        md += \"\\n[More information here](\" + item.talk_url + \")\\n\" \n",
    "        \n",
    "    \n",
    "    if len(str(item.description)) > 3:\n",
    "        md += \"\\n\" + html_escape(item.description) + \"\\n\"\n",
    "        \n",
    "        \n",
    "    md_filename = os.path.basename(md_filename)\n",
    "    #print(md)\n",
    "    \n",
    "    with open(\"../_talks/\" + md_filename, 'w') as f:\n",
    "        f.write(md)"
   ]
  },
  {
   "cell_type": "markdown",
   "metadata": {},
   "source": [
    "These files are in the talks directory, one directory below where we're working from."
   ]
  },
  {
   "cell_type": "code",
   "execution_count": 9,
   "metadata": {
    "collapsed": false,
    "deletable": true,
    "editable": true
   },
   "outputs": [
    {
     "name": "stdout",
     "output_type": "stream",
     "text": [
      "2012-03-01-talk-1.md     2014-03-01-talk-3.md     25-talk-1.md\n",
      "2013-03-01-tutorial-1.md 24-talk-3.md             25-talk-2.md\n",
      "2014-02-01-talk-2.md     24-talk-4.md             25-talk-5.md\n"
     ]
    }
   ],
   "source": [
    "!ls ../_talks"
   ]
  },
  {
   "cell_type": "code",
   "execution_count": 11,
   "metadata": {
    "collapsed": false,
    "deletable": true,
    "editable": true
   },
   "outputs": [
    {
     "name": "stdout",
     "output_type": "stream",
     "text": [
      "---\n",
      "title: \"Transfer learning on staphylococcal transcriptomics: exploring uncharacterized genes\"\n",
      "collection: talks\n",
      "type: \"Talk\"\n",
      "permalink: /talks/1/17/25-talk-1\n",
      "venue: \"Duke Microbiome Center\"\n",
      "date: 1/17/25\n",
      "location: \"Durham, NC\"\n",
      "---\n",
      "\n",
      "Research in Progress Seminar (virtual)\n"
     ]
    }
   ],
   "source": [
    "!cat ../_talks/25-talk-1.md\n"
   ]
  }
 ],
 "metadata": {
  "kernelspec": {
   "display_name": "git",
   "language": "python",
   "name": "python3"
  },
  "language_info": {
   "codemirror_mode": {
    "name": "ipython",
    "version": 3
   },
   "file_extension": ".py",
   "mimetype": "text/x-python",
   "name": "python",
   "nbconvert_exporter": "python",
   "pygments_lexer": "ipython3",
   "version": "3.12.2"
  }
 },
 "nbformat": 4,
 "nbformat_minor": 0
}
