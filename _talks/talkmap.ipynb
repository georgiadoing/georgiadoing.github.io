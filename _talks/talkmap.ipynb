{
 "cells": [
  {
   "cell_type": "markdown",
   "metadata": {},
   "source": [
    "# Leaflet cluster map of talk locations\n",
    "\n",
    "Run this from the _talks/ directory, which contains .md files of all your talks. This scrapes the location YAML field from each .md file, geolocates it with geopy/Nominatim, and uses the getorg library to output data, HTML, and Javascript for a standalone cluster map."
   ]
  },
  {
   "cell_type": "code",
   "execution_count": 6,
   "metadata": {
    "collapsed": false
   },
   "outputs": [
    {
     "name": "stdout",
     "output_type": "stream",
     "text": [
      "Requirement already satisfied: getorg in /Users/georgiadoing/miniconda/envs/git/lib/python3.12/site-packages (0.3.1)\n",
      "Requirement already satisfied: geopy in /Users/georgiadoing/miniconda/envs/git/lib/python3.12/site-packages (from getorg) (2.4.1)\n",
      "Requirement already satisfied: pygithub in /Users/georgiadoing/miniconda/envs/git/lib/python3.12/site-packages (from getorg) (2.7.0)\n",
      "Requirement already satisfied: retrying in /Users/georgiadoing/miniconda/envs/git/lib/python3.12/site-packages (from getorg) (1.4.2)\n",
      "Requirement already satisfied: geographiclib<3,>=1.52 in /Users/georgiadoing/miniconda/envs/git/lib/python3.12/site-packages (from geopy->getorg) (2.0)\n",
      "Requirement already satisfied: pynacl>=1.4.0 in /Users/georgiadoing/miniconda/envs/git/lib/python3.12/site-packages (from pygithub->getorg) (1.5.0)\n",
      "Requirement already satisfied: requests>=2.14.0 in /Users/georgiadoing/miniconda/envs/git/lib/python3.12/site-packages (from pygithub->getorg) (2.32.4)\n",
      "Requirement already satisfied: pyjwt>=2.4.0 in /Users/georgiadoing/miniconda/envs/git/lib/python3.12/site-packages (from pyjwt[crypto]>=2.4.0->pygithub->getorg) (2.10.1)\n",
      "Requirement already satisfied: typing-extensions>=4.5.0 in /Users/georgiadoing/miniconda/envs/git/lib/python3.12/site-packages (from pygithub->getorg) (4.14.1)\n",
      "Requirement already satisfied: urllib3>=1.26.0 in /Users/georgiadoing/miniconda/envs/git/lib/python3.12/site-packages (from pygithub->getorg) (2.5.0)\n",
      "Requirement already satisfied: cryptography>=3.4.0 in /Users/georgiadoing/miniconda/envs/git/lib/python3.12/site-packages (from pyjwt[crypto]>=2.4.0->pygithub->getorg) (45.0.6)\n",
      "Requirement already satisfied: cffi>=1.14 in /Users/georgiadoing/miniconda/envs/git/lib/python3.12/site-packages (from cryptography>=3.4.0->pyjwt[crypto]>=2.4.0->pygithub->getorg) (1.17.1)\n",
      "Requirement already satisfied: pycparser in /Users/georgiadoing/miniconda/envs/git/lib/python3.12/site-packages (from cffi>=1.14->cryptography>=3.4.0->pyjwt[crypto]>=2.4.0->pygithub->getorg) (2.22)\n",
      "Requirement already satisfied: charset_normalizer<4,>=2 in /Users/georgiadoing/miniconda/envs/git/lib/python3.12/site-packages (from requests>=2.14.0->pygithub->getorg) (3.4.2)\n",
      "Requirement already satisfied: idna<4,>=2.5 in /Users/georgiadoing/miniconda/envs/git/lib/python3.12/site-packages (from requests>=2.14.0->pygithub->getorg) (3.10)\n",
      "Requirement already satisfied: certifi>=2017.4.17 in /Users/georgiadoing/miniconda/envs/git/lib/python3.12/site-packages (from requests>=2.14.0->pygithub->getorg) (2025.7.14)\n"
     ]
    }
   ],
   "source": [
    "!pip install getorg --upgrade\n",
    "import glob\n",
    "import getorg\n",
    "from geopy import Nominatim"
   ]
  },
  {
   "cell_type": "code",
   "execution_count": 7,
   "metadata": {
    "collapsed": false
   },
   "outputs": [],
   "source": [
    "g = glob.glob(\"*.md\")"
   ]
  },
  {
   "cell_type": "code",
   "execution_count": 8,
   "metadata": {
    "collapsed": true
   },
   "outputs": [],
   "source": [
    "geocoder = Nominatim(user_agent=\"talkmap-geocoder\")\n",
    "location_dict = {}\n",
    "location = \"\"\n",
    "permalink = \"\"\n",
    "title = \"\""
   ]
  },
  {
   "cell_type": "code",
   "execution_count": 9,
   "metadata": {
    "collapsed": false
   },
   "outputs": [
    {
     "name": "stdout",
     "output_type": "stream",
     "text": [
      "Princeton, NJ \n",
      " Princeton, Mercer County, New Jersey, United States\n",
      "Hanover, NH \n",
      " Hanover, Grafton County, New Hampshire, United States\n",
      "Schenectady, NY \n",
      " City of Schenectady, Schenectady County, New York, United States\n",
      "Ipswitch, MA \n",
      " Ipswitch Great Flats, Ipswich, Essex County, Massachusetts, United States\n",
      "Hanover, NH \n",
      " Hanover, Grafton County, New Hampshire, United States\n",
      "Hanover, NH \n",
      " Hanover, Grafton County, New Hampshire, United States\n",
      "Farmington, CT \n",
      " Farmington, Capitol Planning Region, Connecticut, United States\n",
      "Winstead, CT \n",
      " Kempton Court, Winstead Crossings, Mahoning County, Ohio, 44406, United States\n",
      "Durham, NC \n",
      " Durham, Durham County, North Carolina, United States\n",
      "Hanover, NH \n",
      " Hanover, Grafton County, New Hampshire, United States\n",
      "Annandale-on-Hudson, NY \n",
      " Annandale-on-Hudson, Town of Red Hook, Dutchess County, New York, 12504, United States\n",
      "Alexandria, VA \n",
      " Alexandria, Virginia, United States\n",
      "Annandale-on-Hudson, NY \n",
      " Annandale-on-Hudson, Town of Red Hook, Dutchess County, New York, 12504, United States\n",
      "Farmington, CT \n",
      " Farmington, Capitol Planning Region, Connecticut, United States\n",
      "Farmington, CT \n",
      " Farmington, Capitol Planning Region, Connecticut, United States\n",
      "Lake Arrowhead, CA \n",
      " Lake Arrowhead, San Bernardino County, California, United States\n",
      "Farmington, CT \n",
      " Farmington, Capitol Planning Region, Connecticut, United States\n",
      "Hanover, NH \n",
      " Hanover, Grafton County, New Hampshire, United States\n",
      "Fairlee, VT \n",
      " Fairlee, Orange County, Vermont, 05045, United States\n",
      "New Haven, CT \n",
      " New Haven, South Central Connecticut Planning Region, Connecticut, United States\n",
      "Annandale-on-Hudson, NY \n",
      " Annandale-on-Hudson, Town of Red Hook, Dutchess County, New York, 12504, United States\n",
      "Blue Mountain Lake, NY \n",
      " Blue Mountain Lake, Town of Indian Lake, Hamilton County, New York, 12812, United States\n",
      "Worcester, MA \n",
      " Worcester, Worcester County, Massachusetts, United States\n"
     ]
    }
   ],
   "source": [
    "\n",
    "for file in g:\n",
    "    with open(file, 'r') as f:\n",
    "        lines = f.read()\n",
    "        if lines.find('location: \"') > 1:\n",
    "            loc_start = lines.find('location: \"') + 11\n",
    "            lines_trim = lines[loc_start:]\n",
    "            loc_end = lines_trim.find('\"')\n",
    "            location = lines_trim[:loc_end]\n",
    "                            \n",
    "           \n",
    "        location_dict[location] = geocoder.geocode(location)\n",
    "        print(location, \"\\n\", location_dict[location])\n"
   ]
  },
  {
   "cell_type": "code",
   "execution_count": 10,
   "metadata": {
    "collapsed": false
   },
   "outputs": [
    {
     "data": {
      "text/plain": [
       "'Written map to ../talkmap/'"
      ]
     },
     "execution_count": 10,
     "metadata": {},
     "output_type": "execute_result"
    }
   ],
   "source": [
    "m = getorg.orgmap.create_map_obj()\n",
    "getorg.orgmap.output_html_cluster_map(location_dict, folder_name=\"../talkmap\", hashed_usernames=False)"
   ]
  },
  {
   "cell_type": "code",
   "execution_count": null,
   "metadata": {
    "collapsed": true
   },
   "outputs": [],
   "source": []
  }
 ],
 "metadata": {
  "anaconda-cloud": {},
  "kernelspec": {
   "display_name": "git",
   "language": "python",
   "name": "python3"
  },
  "language_info": {
   "codemirror_mode": {
    "name": "ipython",
    "version": 3
   },
   "file_extension": ".py",
   "mimetype": "text/x-python",
   "name": "python",
   "nbconvert_exporter": "python",
   "pygments_lexer": "ipython3",
   "version": "3.12.2"
  }
 },
 "nbformat": 4,
 "nbformat_minor": 0
}
